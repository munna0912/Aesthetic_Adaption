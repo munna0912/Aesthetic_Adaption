{
 "cells": [
  {
   "cell_type": "code",
   "execution_count": null,
   "metadata": {
    "id": "b8OfiaoAYtyx"
   },
   "outputs": [],
   "source": [
    "# import the libraries\n",
    "import tensorflow as tf\n",
    "from tensorflow.keras import layers\n",
    "import matplotlib.pyplot as plt\n",
    "import numpy as np\n",
    "import os\n",
    "import time\n",
    "LATENT_LENGTH = 2048 "
   ]
  },
  {
   "cell_type": "code",
   "execution_count": null,
   "metadata": {
    "colab": {
     "base_uri": "https://localhost:8080/"
    },
    "id": "8VxuYGT9YvYi",
    "outputId": "d9a9bb50-45f1-4511-bcbf-673ad958e152"
   },
   "outputs": [],
   "source": [
    "# Load the dataset\n",
    "dataset_path = \"Leonardo_da_Vinci/\"\n",
    "batch_size = 16\n",
    "img_height = 256\n",
    "img_width = 256\n",
    "\n",
    "# Create a dataset\n",
    "dataset = tf.keras.preprocessing.image_dataset_from_directory(\n",
    "    dataset_path,\n",
    "    label_mode=None,\n",
    "    image_size=(img_height, img_width),\n",
    "    batch_size=batch_size)\n",
    "\n",
    "# Preprocessing function\n",
    "def preprocess(image):\n",
    "    # Normalize the images to [-1, 1]\n",
    "    image = tf.cast(image, tf.float32)\n",
    "    image = (image / 127.5) -1\n",
    "    return image\n",
    "\n",
    "dataset = dataset.map(preprocess)"
   ]
  },
  {
   "cell_type": "code",
   "execution_count": null,
   "metadata": {
    "colab": {
     "base_uri": "https://localhost:8080/"
    },
    "id": "w7fsKdjWY0EZ",
    "outputId": "765c194c-adca-4236-b290-c5c4a6036b3f"
   },
   "outputs": [],
   "source": [
    "# Create the generator model\n",
    "def make_generator_model():\n",
    "    model = tf.keras.Sequential()\n",
    "    model.add(layers.Dense(256*256*3, input_shape=(LATENT_LENGTH,)))\n",
    "    model.add(layers.BatchNormalization())\n",
    "    model.add(layers.LeakyReLU())\n",
    "\n",
    "    model.add(layers.Reshape((256, 256, 3)))\n",
    "\n",
    "    model.add(layers.Conv2DTranspose(256, (5, 5), strides=1, padding='same'))\n",
    "    model.add(layers.BatchNormalization())\n",
    "    model.add(layers.LeakyReLU())\n",
    "\n",
    "    model.add(layers.Conv2DTranspose(128, (5, 5), strides=1, padding='same'))\n",
    "    model.add(layers.BatchNormalization())\n",
    "    model.add(layers.LeakyReLU())\n",
    "\n",
    "    model.add(layers.Conv2DTranspose(64, (5, 5), strides=1, padding='same'))\n",
    "    model.add(layers.BatchNormalization())\n",
    "    model.add(layers.LeakyReLU())\n",
    "\n",
    "    model.add(layers.Conv2DTranspose(3, (5, 5), strides=1, padding='same', activation='tanh'))\n",
    "\n",
    "    return model\n",
    "generator = make_generator_model()\n",
    "generator.summary()"
   ]
  },
  {
   "cell_type": "code",
   "execution_count": null,
   "metadata": {
    "colab": {
     "base_uri": "https://localhost:8080/"
    },
    "id": "WPQdGJj6Y4aM",
    "outputId": "8a6e9d65-08d7-434e-e8a1-4b0528a1c142"
   },
   "outputs": [],
   "source": [
    "# Create the discriminator model\n",
    "def make_discriminator_model():\n",
    "    model = tf.keras.Sequential()\n",
    "    model.add(layers.Conv2D(64, (3, 3), strides=(2, 2), padding='same',\n",
    "                                     input_shape=[256, 256, 3]))\n",
    "    model.add(layers.LeakyReLU())\n",
    "    model.add(layers.Dropout(0.3))\n",
    "\n",
    "    model.add(layers.Conv2D(128, (3, 3), strides=(2, 2), padding='same'))\n",
    "    model.add(layers.LeakyReLU())\n",
    "    model.add(layers.Dropout(0.3))\n",
    "\n",
    "    model.add(layers.Conv2D(256, (3, 3), strides=(2, 2), padding='same'))\n",
    "    model.add(layers.LeakyReLU())\n",
    "    model.add(layers.Dropout(0.3))\n",
    "\n",
    "    model.add(layers.Conv2D(512, (3, 3), strides=(2, 2), padding='same'))\n",
    "    model.add(layers.LeakyReLU())\n",
    "    model.add(layers.Dropout(0.3))\n",
    "\n",
    "    model.add(layers.Flatten())\n",
    "    model.add(layers.Dense(1))\n",
    "\n",
    "    return model\n",
    "\n",
    "\n",
    "discriminator = make_discriminator_model()\n",
    "discriminator.summary()"
   ]
  },
  {
   "cell_type": "code",
   "execution_count": null,
   "metadata": {
    "id": "f1J3Fy0VY7tU"
   },
   "outputs": [],
   "source": [
    "# Define the loss functions and optimizers\n",
    "cross_entropy = tf.keras.losses.BinaryCrossentropy(from_logits=True)\n",
    "\n",
    "def generator_loss(fake_output):\n",
    "    return cross_entropy(tf.ones_like(fake_output), fake_output)\n",
    "\n",
    "def discriminator_loss(real_output, fake_output):\n",
    "    real_loss = cross_entropy(tf.ones_like(real_output), real_output)\n",
    "    fake_loss = cross_entropy(tf.zeros_like(fake_output), fake_output)\n",
    "    total_loss = real_loss + fake_loss\n",
    "    return total_loss\n",
    "\n",
    "generator_optimizer = tf.keras.optimizers.Adam(0.001)\n",
    "discriminator_optimizer = tf.keras.optimizers.Adam(0.001)\n"
   ]
  },
  {
   "cell_type": "code",
   "execution_count": null,
   "metadata": {
    "id": "0kB01RfYZHC-"
   },
   "outputs": [],
   "source": [
    "# Define the training loop\n",
    "@tf.function\n",
    "def train_step(images,epoch):\n",
    "    # Sample random noise for the generator input\n",
    "    noise = tf.random.normal([images.shape[0], LATENT_LENGTH])\n",
    "    with tf.GradientTape() as gen_tape, tf.GradientTape() as disc_tape:\n",
    "        # Generate new images\n",
    "        generated_images = generator(noise, training=True)\n",
    "\n",
    "        # Get the discriminator outputs\n",
    "        real_output = discriminator(images, training=True)\n",
    "        fake_output = discriminator(generated_images, training=True)\n",
    "\n",
    "        # Compute the loss functions\n",
    "        gen_loss = generator_loss(fake_output)\n",
    "        disc_loss = discriminator_loss(real_output, fake_output)\n",
    "\n",
    "    # Compute the gradients and update the parameters\n",
    "    gradients_of_generator = gen_tape.gradient(gen_loss, generator.trainable_variables)\n",
    "    gradients_of_discriminator = disc_tape.gradient(disc_loss, discriminator.trainable_variables)\n",
    "\n",
    "    # Apply the gradients to the optimizer\n",
    "    if (tf.equal(tf.math.mod(epoch, 4), 0) or tf.equal(tf.math.mod(epoch, 4), 1)): # train discriminator\n",
    "        discriminator_optimizer.apply_gradients(zip(gradients_of_discriminator, discriminator.trainable_variables))\n",
    "    else: # train generator\n",
    "        generator_optimizer.apply_gradients(zip(gradients_of_generator, generator.trainable_variables))\n",
    "\n",
    "    return gen_loss, disc_loss"
   ]
  },
  {
   "cell_type": "code",
   "execution_count": null,
   "metadata": {},
   "outputs": [],
   "source": [
    "# # Load an image file as the test input\n",
    "# test_image_path = 'Munna_Ram .jpg'\n",
    "# test_image = tf.keras.preprocessing.image.load_img(test_image_path, target_size=(img_height, img_width))\n",
    "# test_image = tf.keras.preprocessing.image.img_to_array(test_image)\n",
    "# test_image = (test_image/ 127.5 -1) # Normalize the pixel values to [-1, 1]\n",
    "# test_input = tf.expand_dims(test_image, axis=0)"
   ]
  },
  {
   "cell_type": "code",
   "execution_count": null,
   "metadata": {
    "id": "I3Lp1XLcZZyf",
    "scrolled": false
   },
   "outputs": [],
   "source": [
    "# # Train the GAN model\n",
    "\n",
    "# def train(dataset, epochs,test_input):\n",
    "#     for epoch in range(epochs):\n",
    "#         for image_batch in dataset:\n",
    "#             train_step(image_batch)\n",
    "#         print(\"epoch \"+str(epoch+1)+ \" completed.\")\n",
    "        \n",
    "#         # Generate a sample of images every 5 epochs\n",
    "#         if epoch % 5 == 0:\n",
    "#             generated_image = generator(test_input, training=False)\n",
    "#             generated_image = tf.squeeze(generated_image, axis=0)\n",
    "#             generated_image = (generated_image + 1) / 2 # Rescale from [-1, 1] to [0, 1]\n",
    "#             plt.imshow(generated_image)\n",
    "#             plt.show()\n",
    "\n",
    "            \n",
    "\n",
    "# Train the GAN model\n",
    "def train(dataset, epochs):\n",
    "    for epoch in range(epochs):\n",
    "        gen_losses = []\n",
    "        disc_losses = []\n",
    "        for image_batch in dataset:\n",
    "            gl, dl = train_step(image_batch,epoch)\n",
    "            gen_losses.append(gl)\n",
    "            disc_losses.append(dl)\n",
    "\n",
    "        # Display the progress\n",
    "        print(\"Epoch {}/{} - Generator Loss: {:.4f} - Discriminator Loss: {:.4f}\".format(\n",
    "            epoch + 1, epochs, tf.reduce_mean(gen_losses), tf.reduce_mean(disc_losses)))\n",
    "        \n",
    "        # Generate images for testing\n",
    "        if epoch % 5 == 0:\n",
    "            noise = tf.random.normal( [LATENT_LENGTH])\n",
    "            generated_image = generator(noise, training=False)\n",
    "            generated_image = tf.squeeze(generated_image, axis=0)\n",
    "            generated_image = (generated_image + 1) / 2           # Rescale from [-1, 1] to [0, 1]\n",
    "            plt.imshow(generated_image)\n",
    "            plt.show()          \n",
    "\n",
    "            \n",
    "# Train the GAN model for 200 epochs\n",
    "train(dataset, 200)"
   ]
  },
  {
   "cell_type": "code",
   "execution_count": null,
   "metadata": {},
   "outputs": [],
   "source": [
    "import tensorflow as tf\n",
    "\n",
    "# Load the pre-trained ResNet50 model\n",
    "base_model = tf.keras.applications.ResNet50(input_shape=(256, 256, 3),\n",
    "                                            include_top=False,\n",
    "                                            weights='imagenet')\n",
    "\n",
    "# Freeze the base model layers\n",
    "for layer in base_model.layers:\n",
    "    layer.trainable = False\n",
    "\n",
    "# Create the encoder by removing the final average pooling and output layers from the base model\n",
    "encoder = tf.keras.models.Sequential([\n",
    "    base_model,\n",
    "    tf.keras.layers.GlobalAveragePooling2D(),\n",
    "])\n",
    "\n",
    "# Print the encoder summary\n",
    "encoder.summary()"
   ]
  },
  {
   "cell_type": "code",
   "execution_count": null,
   "metadata": {
    "id": "IdLFwb2cngnB"
   },
   "outputs": [],
   "source": [
    "# Define the function to generate and save new images using the trained generator model\n",
    "def generate_images(model, test_input, save_path, prefix):\n",
    "    # Generate the predictions\n",
    "    predictions = model(test_input, training=False)\n",
    "    # Create the output directory if it doesn't exist\n",
    "    os.makedirs(save_path, exist_ok=True)\n",
    "    # Display and Save each image to disk\n",
    "    for i in range(predictions.shape[0]):\n",
    "        sum_tensor = tf.math.add(predictions[i], test_input[0])\n",
    "        mean_tensor = tf.math.divide(sum_tensor, 2)\n",
    "        plt.imshow((mean_tensor +1)/2)\n",
    "        # Convert the image to a PIL image and save it to disk\n",
    "        image = tf.keras.preprocessing.image.array_to_img((mean_tensor +1)/2)\n",
    "        filename = os.path.join(save_path, f'{prefix}_{i}.jpg')\n",
    "        image.save(filename)\n",
    "        plt.show()"
   ]
  },
  {
   "cell_type": "code",
   "execution_count": null,
   "metadata": {
    "id": "72YkIbaXb-oD"
   },
   "outputs": [],
   "source": [
    "# Load an image file as the test input\n",
    "test_image_path = 'Munna_Ram .jpg'\n",
    "test_image = tf.keras.preprocessing.image.load_img(test_image_path, target_size=(img_height, img_width))\n",
    "test_image = tf.keras.preprocessing.image.img_to_array(test_image)\n",
    "test_image = (test_image/ 127.5 -1) # Normalize the pixel values to [-1, 1]\n",
    "test_input = tf.expand_dims(test_image, axis=0)\n",
    "# Generate style transfered image for input image\n",
    "generate_images(generator, test_input, \"output\", \"Munna_Ram\")"
   ]
  },
  {
   "cell_type": "code",
   "execution_count": null,
   "metadata": {},
   "outputs": [],
   "source": [
    "# Load an image file as the test input\n",
    "test_image_path = 'Car.jpg'\n",
    "test_image = tf.keras.preprocessing.image.load_img(test_image_path, target_size=(img_height, img_width))\n",
    "test_image = tf.keras.preprocessing.image.img_to_array(test_image)\n",
    "test_image = (test_image/ 127.5 -1) # Normalize the pixel values to [-1, 1]\n",
    "test_input = tf.expand_dims(test_image, axis=0)\n",
    "# Generate style transfered image for input image\n",
    "generate_images(generator, test_input, \"output\", \"Car\")"
   ]
  },
  {
   "cell_type": "code",
   "execution_count": null,
   "metadata": {},
   "outputs": [],
   "source": [
    "# Define the seed for generating sample images\n",
    "test_input = tf.random.normal([16, 256, 256, 3])\n",
    "\n",
    "# Generate sample images using the trained generator model\n",
    "generate_images(generator, test_input, \"outputs_random\", \"random_gen\")"
   ]
  },
  {
   "cell_type": "code",
   "execution_count": null,
   "metadata": {
    "id": "1nooyTrlgFfS"
   },
   "outputs": [],
   "source": [
    "# import pickle\n",
    "# with open(\"generator\", \"wb\") as fp:\n",
    "#     pickle.dump(generator, fp)\n",
    "# with open(\"discriminator\", \"wb\") as fp:\n",
    "#     pickle.dump(discriminator, fp)"
   ]
  },
  {
   "cell_type": "code",
   "execution_count": null,
   "metadata": {},
   "outputs": [],
   "source": [
    "# with open(\"generator\", \"rb\") as fpr:\n",
    "#     generator = pickle.load(fpr)\n",
    "# with open(\"discriminator\", \"rb\") as fpr:\n",
    "#     discriminator = pickle.load(fpr)"
   ]
  },
  {
   "cell_type": "code",
   "execution_count": null,
   "metadata": {},
   "outputs": [],
   "source": [
    "train(dataset, 1, test_input)"
   ]
  },
  {
   "cell_type": "code",
   "execution_count": null,
   "metadata": {},
   "outputs": [],
   "source": []
  }
 ],
 "metadata": {
  "colab": {
   "provenance": []
  },
  "gpuClass": "standard",
  "kernelspec": {
   "display_name": "Python 3 (ipykernel)",
   "language": "python",
   "name": "python3"
  },
  "language_info": {
   "codemirror_mode": {
    "name": "ipython",
    "version": 3
   },
   "file_extension": ".py",
   "mimetype": "text/x-python",
   "name": "python",
   "nbconvert_exporter": "python",
   "pygments_lexer": "ipython3",
   "version": "3.9.12"
  }
 },
 "nbformat": 4,
 "nbformat_minor": 1
}
